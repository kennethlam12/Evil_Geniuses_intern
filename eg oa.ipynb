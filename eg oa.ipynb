{
 "cells": [
  {
   "cell_type": "markdown",
   "id": "20c8b362",
   "metadata": {},
   "source": [
    "1. Write a python class called `ProcessGameState` that will accomplish the following:<br>\n",
    "   a. Handle file ingestion and ETL (if deemed necessary)<br>\n",
    "   b. Return whether or not each row falls within a provided boundary<br>\n",
    "     i. Be as efficient as possible (minimize runtime)<br>\n",
    "     ii. Reduce dependencies outside of standard Python libraries.<br>\n",
    "   c. Extract the weapon classes from the inventory json column"
   ]
  },
  {
   "cell_type": "code",
   "execution_count": 1,
   "id": "6f69d34d",
   "metadata": {},
   "outputs": [],
   "source": [
    "import pandas as pd\n",
    "import pyarrow.parquet as pq\n",
    "import matplotlib.path as mpath\n",
    "\n",
    "class ProcessGameState:\n",
    "    def __init__(self, file_path, boundary, z_boundary):\n",
    "        self.data = pq.read_table(file_path).to_pandas()\n",
    "        self.boundary = mpath.Path(boundary)\n",
    "        self.z_bounds = z_boundary\n",
    "        #Map each row to whether or not it is in the boundary\n",
    "        self.rows_in_boundary = {}\n",
    "        #Map each row to whether or not it has two Rifles or SMGs\n",
    "        self.weapons = {}\n",
    "    \n",
    "    #O(N * V) where N is every xyz of every row and V is the number of boundary coords\n",
    "    def is_within_boundary(self):\n",
    "        \n",
    "        for index, row in self.data.iterrows():\n",
    "            x = row[\"x\"]\n",
    "            y = row[\"y\"]\n",
    "            z = row[\"z\"]\n",
    "            \n",
    "            if self.boundary.contains_point([x, y]) and self.z_bounds[0] <= z <= self.z_bounds[1]:\n",
    "                self.rows_in_boundary[index] = True\n",
    "            else:\n",
    "                self.rows_in_boundary[index] = False\n",
    "                \n",
    "                \n",
    "    #O(N) where N is every item in every players inventory          \n",
    "    def two_weapons(self):\n",
    "        for i, inventory in enumerate(self.data[\"inventory\"]):\n",
    "            #Go through every weapon\n",
    "            if inventory is not None:\n",
    "                has_two = 0\n",
    "                for item in inventory:\n",
    "                    if item[\"weapon_class\"] == \"Rifle\" or item[\"weapon_class\"] == \"SMG\":\n",
    "                        has_two += 1\n",
    "                if has_two >= 2:\n",
    "                    self.weapons[i] = True\n",
    "                    continue\n",
    "            self.weapons[i] = False"
   ]
  },
  {
   "cell_type": "markdown",
   "id": "70a7c9c4",
   "metadata": {},
   "source": [
    "2. Using the created class, answer the following questions:<br>\n",
    "   a. Is entering via the light blue boundary a common strategy used by Team2 on T (terrorist) side?<br>\n",
    "   b. What is the average timer that Team2 on T (terrorist) side enters \"BombsiteB\" with at least 2 rifles or SMGs?<br>\n",
    "   c. Now that we've gathered data on Team2 T side, let's examine their CT (counter-terrorist) Side. Using the same data set, tell our coaching staff where you suspect them to be waiting inside \"BombsiteB\"<br>\n"
   ]
  },
  {
   "cell_type": "code",
   "execution_count": 2,
   "id": "b005772a",
   "metadata": {},
   "outputs": [],
   "source": [
    "file_path = \"game_state_frame_data.parquet\"\n",
    "sample_bounds = [[-1735, 250], [-2024, 398], [-2806, 742], [-2472, 1233], [-1565, 580]]\n",
    "sample_z_bounds = [285, 421]\n",
    "\n",
    "\n",
    "solution = ProcessGameState(file_path, sample_bounds, sample_z_bounds)\n",
    "solution.is_within_boundary()\n",
    "solution.two_weapons()"
   ]
  },
  {
   "cell_type": "code",
   "execution_count": 3,
   "id": "90e7bfaf",
   "metadata": {},
   "outputs": [
    {
     "name": "stdout",
     "output_type": "stream",
     "text": [
      "0.00034602076124567473\n"
     ]
    }
   ],
   "source": [
    "#(a)\n",
    "filtered_data = solution.data[(solution.data[\"team\"] == \"Team2\") & (solution.data[\"side\"] == \"T\")]\n",
    "\n",
    "total_time_in_boundary = 0\n",
    "total_time_in_game = 0\n",
    "\n",
    "for index, row in filtered_data.iterrows():\n",
    "    if solution.rows_in_boundary[index] == True:\n",
    "        total_time_in_boundary += 1\n",
    "    total_time_in_game += 1\n",
    "\n",
    "print(total_time_in_boundary/total_time_in_game)"
   ]
  },
  {
   "cell_type": "markdown",
   "id": "d055380f",
   "metadata": {},
   "source": [
    "We can see in this data that Team2 only enters via the light blue boundary when they are on the terrorist side 0.0346% of the time so it is NOT a common strategy."
   ]
  },
  {
   "cell_type": "code",
   "execution_count": 4,
   "id": "08696af8",
   "metadata": {},
   "outputs": [
    {
     "name": "stdout",
     "output_type": "stream",
     "text": [
      "0\n",
      "0\n"
     ]
    }
   ],
   "source": [
    "#(b)\n",
    "\n",
    "def convert_minutes_to_seconds(minutes):\n",
    "    minutes_split = minutes.split(\":\")\n",
    "    minutes = int(minutes_split[0])\n",
    "    seconds = int(minutes_split[1])\n",
    "    total_seconds = minutes * 60 + seconds\n",
    "    return total_seconds\n",
    "\n",
    "\n",
    "timer = 0\n",
    "samples = 0\n",
    "\n",
    "for index, row in filtered_data.iterrows():\n",
    "    if row[\"area_name\"] == \"BombsiteB\" and solution.weapons[index] == True:\n",
    "        timer += convert_minutes_to_seconds(row[\"clock_time\"])\n",
    "        samples += 1\n",
    "\n",
    "print(timer)\n",
    "print(samples)"
   ]
  },
  {
   "cell_type": "markdown",
   "id": "5998f69b",
   "metadata": {},
   "source": [
    "We can see that there are zero samples where Team2 on Terrorist side enters BombsiteB with 2 rifles or SMGs."
   ]
  },
  {
   "cell_type": "code",
   "execution_count": 5,
   "id": "fd8ced68",
   "metadata": {},
   "outputs": [
    {
     "data": {
      "image/png": "[encoded data removed]",
      "text/plain": [
       "<Figure size 432x288 with 2 Axes>"
      ]
     },
     "metadata": {
      "needs_background": "light"
     },
     "output_type": "display_data"
    },
    {
     "name": "stdout",
     "output_type": "stream",
     "text": [
      "-828\n",
      "484\n"
     ]
    }
   ],
   "source": [
    "#(c)\n",
    "import numpy as np\n",
    "import seaborn as sns\n",
    "from scipy.stats import kde\n",
    "import matplotlib.pyplot as plt\n",
    "\n",
    "ct_data = solution.data[(solution.data[\"team\"] == \"Team2\")\n",
    "                        & (solution.data[\"side\"] == \"CT\")\n",
    "                        & (solution.data[\"area_name\"] == \"BombsiteB\")]\n",
    "\n",
    "heatmap = sns.heatmap(ct_data[[\"x\", \"y\"]])\n",
    "\n",
    "plt.show()\n",
    "\n",
    "x = ct_data[\"x\"].values\n",
    "y = ct_data[\"y\"].values\n",
    "\n",
    "k = kde.gaussian_kde(np.vstack([x, y]))\n",
    "density = k(np.vstack([x, y]))\n",
    "\n",
    "max_density_index = np.argmax(density)\n",
    "\n",
    "x_max_density = x[max_density_index]\n",
    "y_max_density = y[max_density_index]\n",
    "\n",
    "print(x_max_density)\n",
    "print(y_max_density)\n"
   ]
  },
  {
   "cell_type": "markdown",
   "id": "cac46d1c",
   "metadata": {},
   "source": [
    "We can see that the points are concentrated mostly arround (-828, 484) so that is probably where they are waiting inside."
   ]
  },
  {
   "cell_type": "markdown",
   "id": "68edd1d9",
   "metadata": {},
   "source": [
    "3. (No Coding) Most of the time, our stakeholders (in this case, the CS:GO coaching staff) aren’t tech-savvy enough to run code themselves. Propose a solution to your product manager that:<br> a. could allow our coaching staff to request or acquire the output themselves<br> b. takes less than 1 weeks worth of work to implement<br>"
   ]
  },
  {
   "cell_type": "markdown",
   "id": "e10d51f6",
   "metadata": {},
   "source": [
    "One way for the coaching staff to see if entering via the light blue boundary is a common strategy used by Team2 on Terrorist side is to look at the rounds where Team2 is on Terrorist side and record how many times they enter from the blue boundary. Then, we can divide that by the total number of rounds played and that will show how frequently it happens. (close to 0 = not very frequent, close to 1 = frequent) We can see the average timer that Team2 on T enters BombsiteB with at least 2 rifles or SMGs the similarly by recording the timestamp every time they get to BombsiteB with at least 2 rifles or SMGS, summing the time after converting it to seconds, and dividing that by the total number of occurences. FInally we can try to find out where to expect them to be hiding by getting the x, y positions of the players over some games and looking at the frequency of where they stand in each game."
   ]
  },
  {
   "cell_type": "code",
   "execution_count": null,
   "id": "649d8784",
   "metadata": {},
   "outputs": [],
   "source": []
  }
 ],
 "metadata": {
  "kernelspec": {
   "display_name": "Python 3 (ipykernel)",
   "language": "python",
   "name": "python3"
  },
  "language_info": {
   "codemirror_mode": {
    "name": "ipython",
    "version": 3
   },
   "file_extension": ".py",
   "mimetype": "text/x-python",
   "name": "python",
   "nbconvert_exporter": "python",
   "pygments_lexer": "ipython3",
   "version": "3.9.7"
  }
 },
 "nbformat": 4,
 "nbformat_minor": 5
}
